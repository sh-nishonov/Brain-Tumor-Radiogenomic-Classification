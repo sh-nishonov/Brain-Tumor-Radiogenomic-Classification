{
 "cells": [
  {
   "cell_type": "markdown",
   "id": "633e9731",
   "metadata": {
    "papermill": {
     "duration": 0.015283,
     "end_time": "2021-08-24T08:19:44.327162",
     "exception": false,
     "start_time": "2021-08-24T08:19:44.311879",
     "status": "completed"
    },
    "tags": []
   },
   "source": [
    "## Use stacked images (3D) and Efficientnet3D model\n",
    
   ]
  },
  {
   "cell_type": "code",
   "execution_count": 1,
   "id": "1bfadcab",
   "metadata": {
    "execution": {
     "iopub.execute_input": "2021-08-24T08:19:44.367801Z",
     "iopub.status.busy": "2021-08-24T08:19:44.363614Z",
     "iopub.status.idle": "2021-08-24T08:19:46.702812Z",
     "shell.execute_reply": "2021-08-24T08:19:46.702170Z",
     "shell.execute_reply.started": "2021-08-02T17:58:27.498942Z"
    },
    "papermill": {
     "duration": 2.361391,
     "end_time": "2021-08-24T08:19:46.702960",
     "exception": false,
     "start_time": "2021-08-24T08:19:44.341569",
     "status": "completed"
    },
    "tags": []
   },
   "outputs": [],
   "source": [
    "import os\n",
    "import sys \n",
    "import json\n",
    "import glob\n",
    "import random\n",
    "import collections\n",
    "import time\n",
    "import re\n",
    "\n",
    "import numpy as np\n",
    "import pandas as pd\n",
    "import pydicom\n",
    "from pydicom.pixel_data_handlers.util import apply_voi_lut\n",
    "import cv2\n",
    "import matplotlib.pyplot as plt\n",
    "import seaborn as sns\n",
    "\n",
    "import torch\n",
    "from torch import nn\n",
    "from torch.utils import data as torch_data\n",
    "from sklearn import model_selection as sk_model_selection\n",
    "from torch.nn import functional as torch_functional\n",
    "import torch.nn.functional as F\n",
    "\n",
    "from sklearn.model_selection import StratifiedKFold\n",
    "from sklearn.metrics import roc_auc_score"
   ]
  },
  {
   "cell_type": "code",
   "execution_count": 2,
   "id": "fc942ab5",
   "metadata": {
    "execution": {
     "iopub.execute_input": "2021-08-24T08:19:46.743758Z",
     "iopub.status.busy": "2021-08-24T08:19:46.739119Z",
     "iopub.status.idle": "2021-08-24T08:19:46.822647Z",
     "shell.execute_reply": "2021-08-24T08:19:46.822176Z",
     "shell.execute_reply.started": "2021-08-02T17:58:27.510172Z"
    },
    "lines_to_end_of_cell_marker": 2,
    "lines_to_next_cell": 2,
    "papermill": {
     "duration": 0.103213,
     "end_time": "2021-08-24T08:19:46.822758",
     "exception": false,
     "start_time": "2021-08-24T08:19:46.719545",
     "status": "completed"
    },
    "tags": []
   },
   "outputs": [],
   "source": [
    "if os.path.exists(\"../input/rsna-miccai-brain-tumor-radiogenomic-classification\"):\n",
    "    data_directory = '../input/rsna-miccai-brain-tumor-radiogenomic-classification'\n",
    "    pytorch3dpath = \"../input/efficientnetpyttorch3d/EfficientNet-PyTorch-3D\"\n",
    "else:\n",
    "    data_directory = '/media/roland/data/kaggle/rsna-miccai-brain-tumor-radiogenomic-classification'\n",
    "    pytorch3dpath = \"EfficientNet-PyTorch-3D\"\n",
    "    \n",
    "mri_types = ['FLAIR','T1w','T1wCE','T2w']\n",
    "SIZE = 256\n",
    "NUM_IMAGES = 64\n",
    "\n",
    "sys.path.append(pytorch3dpath)\n",
    "from efficientnet_pytorch_3d import EfficientNet3D"
   ]
  },
  {
   "cell_type": "markdown",
   "id": "36e9fc98",
   "metadata": {
    "papermill": {
     "duration": 0.013991,
     "end_time": "2021-08-24T08:19:46.851352",
     "exception": false,
     "start_time": "2021-08-24T08:19:46.837361",
     "status": "completed"
    },
    "tags": []
   },
   "source": [
    "## Functions to load images"
   ]
  },
  {
   "cell_type": "code",
   "execution_count": 3,
   "id": "ac3d66fb",
   "metadata": {
    "execution": {
     "iopub.execute_input": "2021-08-24T08:19:46.890311Z",
     "iopub.status.busy": "2021-08-24T08:19:46.889791Z",
     "iopub.status.idle": "2021-08-24T08:19:47.940886Z",
     "shell.execute_reply": "2021-08-24T08:19:47.941546Z",
     "shell.execute_reply.started": "2021-08-02T17:58:27.52446Z"
    },
    "papermill": {
     "duration": 1.076157,
     "end_time": "2021-08-24T08:19:47.941735",
     "exception": false,
     "start_time": "2021-08-24T08:19:46.865578",
     "status": "completed"
    },
    "tags": []
   },
   "outputs": [
    {
     "name": "stdout",
     "output_type": "stream",
     "text": [
      "(1, 256, 256, 64)\n",
      "0.0 1.0 0.07902179328632788 0.00023671822699371212\n"
     ]
    }
   ],
   "source": [
    "def load_dicom_image(path, img_size=SIZE, voi_lut=True, rotate=0):\n",
    "    dicom = pydicom.read_file(path)\n",
    "    data = dicom.pixel_array\n",
    "    if voi_lut:\n",
    "        data = apply_voi_lut(dicom.pixel_array, dicom)\n",
    "    else:\n",
    "        data = dicom.pixel_array\n",
    "        \n",
    "    if rotate > 0:\n",
    "        rot_choices = [0, cv2.ROTATE_90_CLOCKWISE, cv2.ROTATE_90_COUNTERCLOCKWISE, cv2.ROTATE_180]\n",
    "        data = cv2.rotate(data, rot_choices[rotate])\n",
    "        \n",
    "    data = cv2.resize(data, (img_size, img_size))\n",
    "    return data\n",
    "\n",
    "\n",
    "def load_dicom_images_3d(scan_id, num_imgs=NUM_IMAGES, img_size=SIZE, mri_type=\"FLAIR\", split=\"train\", rotate=0):\n",
    "\n",
    "    files = sorted(glob.glob(f\"{data_directory}/{split}/{scan_id}/{mri_type}/*.dcm\"), \n",
    "               key=lambda var:[int(x) if x.isdigit() else x for x in re.findall(r'[^0-9]|[0-9]+', var)])\n",
    "\n",
    "    middle = len(files)//2\n",
    "    num_imgs2 = num_imgs//2\n",
    "    p1 = max(0, middle - num_imgs2)\n",
    "    p2 = min(len(files), middle + num_imgs2)\n",
    "    img3d = np.stack([load_dicom_image(f, rotate=rotate) for f in files[p1:p2]]).T \n",
    "    if img3d.shape[-1] < num_imgs:\n",
    "        n_zero = np.zeros((img_size, img_size, num_imgs - img3d.shape[-1]))\n",
    "        img3d = np.concatenate((img3d,  n_zero), axis = -1)\n",
    "        \n",
    "    if np.min(img3d) < np.max(img3d):\n",
    "        img3d = img3d - np.min(img3d)\n",
    "        img3d = img3d / np.max(img3d)\n",
    "            \n",
    "    return np.expand_dims(img3d,0)\n",
    "\n",
    "a = load_dicom_images_3d(\"00000\")\n",
    "print(a.shape)\n",
    "print(np.min(a), np.max(a), np.mean(a), np.median(a))"
   ]
  },
  {
   "cell_type": "code",
   "execution_count": 4,
   "id": "cf4ab703",
   "metadata": {
    "execution": {
     "iopub.execute_input": "2021-08-24T08:19:47.981478Z",
     "iopub.status.busy": "2021-08-24T08:19:47.980802Z",
     "iopub.status.idle": "2021-08-24T08:19:48.030076Z",
     "shell.execute_reply": "2021-08-24T08:19:48.029658Z",
     "shell.execute_reply.started": "2021-08-02T17:58:27.987461Z"
    },
    "papermill": {
     "duration": 0.068599,
     "end_time": "2021-08-24T08:19:48.030188",
     "exception": false,
     "start_time": "2021-08-24T08:19:47.961589",
     "status": "completed"
    },
    "tags": []
   },
   "outputs": [],
   "source": [
    "def set_seed(seed):\n",
    "    random.seed(seed)\n",
    "    os.environ[\"PYTHONHASHSEED\"] = str(seed)\n",
    "    np.random.seed(seed)\n",
    "    torch.manual_seed(seed)\n",
    "    if torch.cuda.is_available():\n",
    "        torch.cuda.manual_seed_all(seed)\n",
    "        torch.backends.cudnn.deterministic = True\n",
    "\n",
    "set_seed(12)"
   ]
  },
  {
   "cell_type": "markdown",
   "id": "dff0b2e5",
   "metadata": {
    "papermill": {
     "duration": 0.014511,
     "end_time": "2021-08-24T08:19:48.059597",
     "exception": false,
     "start_time": "2021-08-24T08:19:48.045086",
     "status": "completed"
    },
    "tags": []
   },
   "source": [
    "## train / test splits"
   ]
  },
  {
   "cell_type": "code",
   "execution_count": 5,
   "id": "78b5f50e",
   "metadata": {
    "execution": {
     "iopub.execute_input": "2021-08-24T08:19:48.094117Z",
     "iopub.status.busy": "2021-08-24T08:19:48.093564Z",
     "iopub.status.idle": "2021-08-24T08:19:48.123894Z",
     "shell.execute_reply": "2021-08-24T08:19:48.123143Z",
     "shell.execute_reply.started": "2021-08-02T17:58:27.996423Z"
    },
    "papermill": {
     "duration": 0.04905,
     "end_time": "2021-08-24T08:19:48.124013",
     "exception": false,
     "start_time": "2021-08-24T08:19:48.074963",
     "status": "completed"
    },
    "tags": []
   },
   "outputs": [
    {
     "data": {
      "text/html": [
       "<div>\n",
       "<style scoped>\n",
       "    .dataframe tbody tr th:only-of-type {\n",
       "        vertical-align: middle;\n",
       "    }\n",
       "\n",
       "    .dataframe tbody tr th {\n",
       "        vertical-align: top;\n",
       "    }\n",
       "\n",
       "    .dataframe thead th {\n",
       "        text-align: right;\n",
       "    }\n",
       "</style>\n",
       "<table border=\"1\" class=\"dataframe\">\n",
       "  <thead>\n",
       "    <tr style=\"text-align: right;\">\n",
       "      <th></th>\n",
       "      <th>BraTS21ID</th>\n",
       "      <th>MGMT_value</th>\n",
       "    </tr>\n",
       "  </thead>\n",
       "  <tbody>\n",
       "    <tr>\n",
       "      <th>0</th>\n",
       "      <td>0</td>\n",
       "      <td>1</td>\n",
       "    </tr>\n",
       "    <tr>\n",
       "      <th>1</th>\n",
       "      <td>2</td>\n",
       "      <td>1</td>\n",
       "    </tr>\n",
       "    <tr>\n",
       "      <th>2</th>\n",
       "      <td>3</td>\n",
       "      <td>0</td>\n",
       "    </tr>\n",
       "    <tr>\n",
       "      <th>3</th>\n",
       "      <td>5</td>\n",
       "      <td>1</td>\n",
       "    </tr>\n",
       "    <tr>\n",
       "      <th>4</th>\n",
       "      <td>6</td>\n",
       "      <td>1</td>\n",
       "    </tr>\n",
       "    <tr>\n",
       "      <th>...</th>\n",
       "      <td>...</td>\n",
       "      <td>...</td>\n",
       "    </tr>\n",
       "    <tr>\n",
       "      <th>580</th>\n",
       "      <td>1005</td>\n",
       "      <td>1</td>\n",
       "    </tr>\n",
       "    <tr>\n",
       "      <th>581</th>\n",
       "      <td>1007</td>\n",
       "      <td>1</td>\n",
       "    </tr>\n",
       "    <tr>\n",
       "      <th>582</th>\n",
       "      <td>1008</td>\n",
       "      <td>1</td>\n",
       "    </tr>\n",
       "    <tr>\n",
       "      <th>583</th>\n",
       "      <td>1009</td>\n",
       "      <td>0</td>\n",
       "    </tr>\n",
       "    <tr>\n",
       "      <th>584</th>\n",
       "      <td>1010</td>\n",
       "      <td>0</td>\n",
       "    </tr>\n",
       "  </tbody>\n",
       "</table>\n",
       "<p>585 rows × 2 columns</p>\n",
       "</div>"
      ],
      "text/plain": [
       "     BraTS21ID  MGMT_value\n",
       "0            0           1\n",
       "1            2           1\n",
       "2            3           0\n",
       "3            5           1\n",
       "4            6           1\n",
       "..         ...         ...\n",
       "580       1005           1\n",
       "581       1007           1\n",
       "582       1008           1\n",
       "583       1009           0\n",
       "584       1010           0\n",
       "\n",
       "[585 rows x 2 columns]"
      ]
     },
     "metadata": {},
     "output_type": "display_data"
    }
   ],
   "source": [
    "train_df = pd.read_csv(f\"{data_directory}/train_labels.csv\")\n",
    "display(train_df)\n",
    "\n",
    "df_train, df_valid = sk_model_selection.train_test_split(\n",
    "    train_df, \n",
    "    test_size=0.2, \n",
    "    random_state=12, \n",
    "    stratify=train_df[\"MGMT_value\"],\n",
    ")\n"
   ]
  },
  {
   "cell_type": "code",
   "execution_count": 6,
   "id": "69f2834c",
   "metadata": {
    "execution": {
     "iopub.execute_input": "2021-08-24T08:19:48.162184Z",
     "iopub.status.busy": "2021-08-24T08:19:48.161627Z",
     "iopub.status.idle": "2021-08-24T08:19:48.164733Z",
     "shell.execute_reply": "2021-08-24T08:19:48.165142Z",
     "shell.execute_reply.started": "2021-08-02T17:58:28.024639Z"
    },
    "papermill": {
     "duration": 0.026129,
     "end_time": "2021-08-24T08:19:48.165256",
     "exception": false,
     "start_time": "2021-08-24T08:19:48.139127",
     "status": "completed"
    },
    "tags": []
   },
   "outputs": [
    {
     "data": {
      "text/html": [
       "<div>\n",
       "<style scoped>\n",
       "    .dataframe tbody tr th:only-of-type {\n",
       "        vertical-align: middle;\n",
       "    }\n",
       "\n",
       "    .dataframe tbody tr th {\n",
       "        vertical-align: top;\n",
       "    }\n",
       "\n",
       "    .dataframe thead th {\n",
       "        text-align: right;\n",
       "    }\n",
       "</style>\n",
       "<table border=\"1\" class=\"dataframe\">\n",
       "  <thead>\n",
       "    <tr style=\"text-align: right;\">\n",
       "      <th></th>\n",
       "      <th>BraTS21ID</th>\n",
       "      <th>MGMT_value</th>\n",
       "    </tr>\n",
       "  </thead>\n",
       "  <tbody>\n",
       "    <tr>\n",
       "      <th>105</th>\n",
       "      <td>157</td>\n",
       "      <td>0</td>\n",
       "    </tr>\n",
       "    <tr>\n",
       "      <th>222</th>\n",
       "      <td>322</td>\n",
       "      <td>1</td>\n",
       "    </tr>\n",
       "    <tr>\n",
       "      <th>114</th>\n",
       "      <td>170</td>\n",
       "      <td>0</td>\n",
       "    </tr>\n",
       "    <tr>\n",
       "      <th>223</th>\n",
       "      <td>324</td>\n",
       "      <td>0</td>\n",
       "    </tr>\n",
       "    <tr>\n",
       "      <th>81</th>\n",
       "      <td>123</td>\n",
       "      <td>0</td>\n",
       "    </tr>\n",
       "  </tbody>\n",
       "</table>\n",
       "</div>"
      ],
      "text/plain": [
       "     BraTS21ID  MGMT_value\n",
       "105        157           0\n",
       "222        322           1\n",
       "114        170           0\n",
       "223        324           0\n",
       "81         123           0"
      ]
     },
     "execution_count": 6,
     "metadata": {},
     "output_type": "execute_result"
    }
   ],
   "source": [
    "df_train.tail()"
   ]
  },
  {
   "cell_type": "markdown",
   "id": "2b89952b",
   "metadata": {
    "papermill": {
     "duration": 0.01535,
     "end_time": "2021-08-24T08:19:48.196348",
     "exception": false,
     "start_time": "2021-08-24T08:19:48.180998",
     "status": "completed"
    },
    "tags": []
   },
   "source": [
    "## Model and training classes"
   ]
  },
  {
   "cell_type": "code",
   "execution_count": 7,
   "id": "1fbe0615",
   "metadata": {
    "execution": {
     "iopub.execute_input": "2021-08-24T08:19:48.236691Z",
     "iopub.status.busy": "2021-08-24T08:19:48.235473Z",
     "iopub.status.idle": "2021-08-24T08:19:48.237790Z",
     "shell.execute_reply": "2021-08-24T08:19:48.238188Z",
     "shell.execute_reply.started": "2021-08-02T17:58:28.035841Z"
    },
    "papermill": {
     "duration": 0.026591,
     "end_time": "2021-08-24T08:19:48.238316",
     "exception": false,
     "start_time": "2021-08-24T08:19:48.211725",
     "status": "completed"
    },
    "tags": []
   },
   "outputs": [],
   "source": [
    "class Dataset(torch_data.Dataset):\n",
    "    def __init__(self, paths, targets=None, mri_type=None, label_smoothing=0.01, split=\"train\", augment=False):\n",
    "        self.paths = paths\n",
    "        self.targets = targets\n",
    "        self.mri_type = mri_type\n",
    "        self.label_smoothing = label_smoothing\n",
    "        self.split = split\n",
    "        self.augment = augment\n",
    "          \n",
    "    def __len__(self):\n",
    "        return len(self.paths)\n",
    "    \n",
    "    def __getitem__(self, index):\n",
    "        scan_id = self.paths[index]\n",
    "        if self.targets is None:\n",
    "            data = load_dicom_images_3d(str(scan_id).zfill(5), mri_type=self.mri_type[index], split=self.split)\n",
    "        else:\n",
    "            if self.augment:\n",
    "                rotation = np.random.randint(0,4)\n",
    "            else:\n",
    "                rotation = 0\n",
    "\n",
    "            data = load_dicom_images_3d(str(scan_id).zfill(5), mri_type=self.mri_type[index], split=\"train\", rotate=rotation)\n",
    "\n",
    "        if self.targets is None:\n",
    "            return {\"X\": torch.tensor(data).float(), \"id\": scan_id}\n",
    "        else:\n",
    "            y = torch.tensor(abs(self.targets[index]-self.label_smoothing), dtype=torch.float)\n",
    "            return {\"X\": torch.tensor(data).float(), \"y\": y}\n"
   ]
  },
  {
   "cell_type": "code",
   "execution_count": 8,
   "id": "071738cb",
   "metadata": {
    "execution": {
     "iopub.execute_input": "2021-08-24T08:19:48.273932Z",
     "iopub.status.busy": "2021-08-24T08:19:48.273439Z",
     "iopub.status.idle": "2021-08-24T08:19:48.277105Z",
     "shell.execute_reply": "2021-08-24T08:19:48.276715Z",
     "shell.execute_reply.started": "2021-08-02T17:58:28.049391Z"
    },
    "papermill": {
     "duration": 0.023603,
     "end_time": "2021-08-24T08:19:48.277203",
     "exception": false,
     "start_time": "2021-08-24T08:19:48.253600",
     "status": "completed"
    },
    "tags": []
   },
   "outputs": [],
   "source": [
    "class Model(nn.Module):\n",
    "    def __init__(self):\n",
    "        super().__init__()\n",
    "        self.net = EfficientNet3D.from_name(\"efficientnet-b0\", override_params={'num_classes': 2}, in_channels=1)\n",
    "        n_features = self.net._fc.in_features\n",
    "        self.net._fc = nn.Linear(in_features=n_features, out_features=1, bias=True)\n",
    "    \n",
    "    def forward(self, x):\n",
    "        out = self.net(x)\n",
    "        return out\n",
    "    "
   ]
  },
  {
   "cell_type": "code",
   "execution_count": 9,
   "id": "c13b6bd7",
   "metadata": {
    "execution": {
     "iopub.execute_input": "2021-08-24T08:19:48.326461Z",
     "iopub.status.busy": "2021-08-24T08:19:48.315572Z",
     "iopub.status.idle": "2021-08-24T08:19:48.328792Z",
     "shell.execute_reply": "2021-08-24T08:19:48.328389Z",
     "shell.execute_reply.started": "2021-08-02T17:58:28.059124Z"
    },
    "papermill": {
     "duration": 0.036257,
     "end_time": "2021-08-24T08:19:48.328890",
     "exception": false,
     "start_time": "2021-08-24T08:19:48.292633",
     "status": "completed"
    },
    "tags": []
   },
   "outputs": [],
   "source": [
    "class Trainer:\n",
    "    def __init__(\n",
    "        self, \n",
    "        model, \n",
    "        device, \n",
    "        optimizer, \n",
    "        criterion\n",
    "    ):\n",
    "        self.model = model\n",
    "        self.device = device\n",
    "        self.optimizer = optimizer\n",
    "        self.criterion = criterion\n",
    "\n",
    "        self.best_valid_score = np.inf\n",
    "        self.n_patience = 0\n",
    "        self.lastmodel = None\n",
    "        \n",
    "    def fit(self, epochs, train_loader, valid_loader, save_path, patience):        \n",
    "        for n_epoch in range(1, epochs + 1):\n",
    "            self.info_message(\"EPOCH: {}\", n_epoch)\n",
    "            \n",
    "            train_loss, train_time = self.train_epoch(train_loader)\n",
    "            valid_loss, valid_auc, valid_time = self.valid_epoch(valid_loader)\n",
    "            \n",
    "            self.info_message(\n",
    "                \"[Epoch Train: {}] loss: {:.4f}, time: {:.2f} s            \",\n",
    "                n_epoch, train_loss, train_time\n",
    "            )\n",
    "            \n",
    "            self.info_message(\n",
    "                \"[Epoch Valid: {}] loss: {:.4f}, auc: {:.4f}, time: {:.2f} s\",\n",
    "                n_epoch, valid_loss, valid_auc, valid_time\n",
    "            )\n",
    "\n",
    "            # if True:\n",
    "            #if self.best_valid_score < valid_auc: \n",
    "            if self.best_valid_score > valid_loss: \n",
    "                self.save_model(n_epoch, save_path, valid_loss, valid_auc)\n",
    "                self.info_message(\n",
    "                     \"auc improved from {:.4f} to {:.4f}. Saved model to '{}'\", \n",
    "                    self.best_valid_score, valid_loss, self.lastmodel\n",
    "                )\n",
    "                self.best_valid_score = valid_loss\n",
    "                self.n_patience = 0\n",
    "            else:\n",
    "                self.n_patience += 1\n",
    "            \n",
    "            if self.n_patience >= patience:\n",
    "                self.info_message(\"\\nValid auc didn't improve last {} epochs.\", patience)\n",
    "                break\n",
    "            \n",
    "    def train_epoch(self, train_loader):\n",
    "        self.model.train()\n",
    "        t = time.time()\n",
    "        sum_loss = 0\n",
    "\n",
    "        for step, batch in enumerate(train_loader, 1):\n",
    "            X = batch[\"X\"].to(self.device)\n",
    "            targets = batch[\"y\"].to(self.device)\n",
    "            self.optimizer.zero_grad()\n",
    "            outputs = self.model(X).squeeze(1)\n",
    "            \n",
    "            loss = self.criterion(outputs, targets)\n",
    "            loss.backward()\n",
    "\n",
    "            sum_loss += loss.detach().item()\n",
    "\n",
    "            self.optimizer.step()\n",
    "            \n",
    "            message = 'Train Step {}/{}, train_loss: {:.4f}'\n",
    "            self.info_message(message, step, len(train_loader), sum_loss/step, end=\"\\r\")\n",
    "        \n",
    "        return sum_loss/len(train_loader), int(time.time() - t)\n",
    "    \n",
    "    def valid_epoch(self, valid_loader):\n",
    "        self.model.eval()\n",
    "        t = time.time()\n",
    "        sum_loss = 0\n",
    "        y_all = []\n",
    "        outputs_all = []\n",
    "\n",
    "        for step, batch in enumerate(valid_loader, 1):\n",
    "            with torch.no_grad():\n",
    "                X = batch[\"X\"].to(self.device)\n",
    "                targets = batch[\"y\"].to(self.device)\n",
    "\n",
    "                outputs = self.model(X).squeeze(1)\n",
    "                loss = self.criterion(outputs, targets)\n",
    "\n",
    "                sum_loss += loss.detach().item()\n",
    "                y_all.extend(batch[\"y\"].tolist())\n",
    "                outputs_all.extend(torch.sigmoid(outputs).tolist())\n",
    "\n",
    "            message = 'Valid Step {}/{}, valid_loss: {:.4f}'\n",
    "            self.info_message(message, step, len(valid_loader), sum_loss/step, end=\"\\r\")\n",
    "            \n",
    "        y_all = [1 if x > 0.5 else 0 for x in y_all]\n",
    "        auc = roc_auc_score(y_all, outputs_all)\n",
    "        \n",
    "        return sum_loss/len(valid_loader), auc, int(time.time() - t)\n",
    "    \n",
    "    def save_model(self, n_epoch, save_path, loss, auc):\n",
    "        self.lastmodel = f\"{save_path}-e{n_epoch}-loss{loss:.3f}-auc{auc:.3f}.pth\"\n",
    "        torch.save(\n",
    "            {\n",
    "                \"model_state_dict\": self.model.state_dict(),\n",
    "                \"optimizer_state_dict\": self.optimizer.state_dict(),\n",
    "                \"best_valid_score\": self.best_valid_score,\n",
    "                \"n_epoch\": n_epoch,\n",
    "            },\n",
    "            self.lastmodel,\n",
    "        )\n",
    "    \n",
    "    @staticmethod\n",
    "    def info_message(message, *args, end=\"\\n\"):\n",
    "        print(message.format(*args), end=end)"
   ]
  },
  {
   "cell_type": "markdown",
   "id": "b42f7162",
   "metadata": {
    "papermill": {
     "duration": 0.015264,
     "end_time": "2021-08-24T08:19:48.360296",
     "exception": false,
     "start_time": "2021-08-24T08:19:48.345032",
     "status": "completed"
    },
    "tags": []
   },
   "source": [
    "## train models"
   ]
  },
  {
   "cell_type": "code",
   "execution_count": 10,
   "id": "b50ceea1",
   "metadata": {
    "execution": {
     "iopub.execute_input": "2021-08-24T08:19:48.403782Z",
     "iopub.status.busy": "2021-08-24T08:19:48.403201Z",
     "iopub.status.idle": "2021-08-24T12:06:06.488909Z",
     "shell.execute_reply": "2021-08-24T12:06:06.489335Z",
     "shell.execute_reply.started": "2021-08-02T17:58:28.081487Z"
    },
    "lines_to_next_cell": 2,
    "papermill": {
     "duration": 13578.113804,
     "end_time": "2021-08-24T12:06:06.489507",
     "exception": false,
     "start_time": "2021-08-24T08:19:48.375703",
     "status": "completed"
    },
    "tags": []
   },
   "outputs": [
    {
     "name": "stdout",
     "output_type": "stream",
     "text": [
      "(468, 3) (117, 3)\n"
     ]
    },
    {
     "name": "stderr",
     "output_type": "stream",
     "text": [
      "/opt/conda/lib/python3.7/site-packages/pandas/core/indexing.py:1597: SettingWithCopyWarning: \n",
      "A value is trying to be set on a copy of a slice from a DataFrame.\n",
      "Try using .loc[row_indexer,col_indexer] = value instead\n",
      "\n",
      "See the caveats in the documentation: https://pandas.pydata.org/pandas-docs/stable/user_guide/indexing.html#returning-a-view-versus-a-copy\n",
      "  self.obj[key] = value\n",
      "/opt/conda/lib/python3.7/site-packages/pandas/core/indexing.py:1720: SettingWithCopyWarning: \n",
      "A value is trying to be set on a copy of a slice from a DataFrame.\n",
      "Try using .loc[row_indexer,col_indexer] = value instead\n",
      "\n",
      "See the caveats in the documentation: https://pandas.pydata.org/pandas-docs/stable/user_guide/indexing.html#returning-a-view-versus-a-copy\n",
      "  self._setitem_single_column(loc, value, pi)\n"
     ]
    },
    {
     "data": {
      "text/html": [
       "<div>\n",
       "<style scoped>\n",
       "    .dataframe tbody tr th:only-of-type {\n",
       "        vertical-align: middle;\n",
       "    }\n",
       "\n",
       "    .dataframe tbody tr th {\n",
       "        vertical-align: top;\n",
       "    }\n",
       "\n",
       "    .dataframe thead th {\n",
       "        text-align: right;\n",
       "    }\n",
       "</style>\n",
       "<table border=\"1\" class=\"dataframe\">\n",
       "  <thead>\n",
       "    <tr style=\"text-align: right;\">\n",
       "      <th></th>\n",
       "      <th>BraTS21ID</th>\n",
       "      <th>MGMT_value</th>\n",
       "      <th>MRI_Type</th>\n",
       "    </tr>\n",
       "  </thead>\n",
       "  <tbody>\n",
       "    <tr>\n",
       "      <th>446</th>\n",
       "      <td>645</td>\n",
       "      <td>0</td>\n",
       "      <td>FLAIR</td>\n",
       "    </tr>\n",
       "    <tr>\n",
       "      <th>529</th>\n",
       "      <td>777</td>\n",
       "      <td>1</td>\n",
       "      <td>FLAIR</td>\n",
       "    </tr>\n",
       "    <tr>\n",
       "      <th>420</th>\n",
       "      <td>607</td>\n",
       "      <td>1</td>\n",
       "      <td>FLAIR</td>\n",
       "    </tr>\n",
       "    <tr>\n",
       "      <th>406</th>\n",
       "      <td>589</td>\n",
       "      <td>0</td>\n",
       "      <td>FLAIR</td>\n",
       "    </tr>\n",
       "    <tr>\n",
       "      <th>475</th>\n",
       "      <td>690</td>\n",
       "      <td>1</td>\n",
       "      <td>FLAIR</td>\n",
       "    </tr>\n",
       "  </tbody>\n",
       "</table>\n",
       "</div>"
      ],
      "text/plain": [
       "     BraTS21ID  MGMT_value MRI_Type\n",
       "446        645           0    FLAIR\n",
       "529        777           1    FLAIR\n",
       "420        607           1    FLAIR\n",
       "406        589           0    FLAIR\n",
       "475        690           1    FLAIR"
      ]
     },
     "metadata": {},
     "output_type": "display_data"
    },
    {
     "name": "stdout",
     "output_type": "stream",
     "text": [
      "EPOCH: 1\n",
      "[Epoch Train: 1] loss: 0.7528, time: 305.00 s            \n",
      "[Epoch Valid: 1] loss: 0.6952, auc: 0.5000, time: 40.00 s\n",
      "auc improved from inf to 0.6952. Saved model to 'FLAIR-e1-loss0.695-auc0.500.pth'\n",
      "EPOCH: 2\n",
      "[Epoch Train: 2] loss: 0.7195, time: 300.00 s            \n",
      "[Epoch Valid: 2] loss: 0.6962, auc: 0.5304, time: 38.00 s\n",
      "EPOCH: 3\n",
      "[Epoch Train: 3] loss: 0.7027, time: 300.00 s            \n",
      "[Epoch Valid: 3] loss: 0.6947, auc: 0.5234, time: 38.00 s\n",
      "auc improved from 0.6952 to 0.6947. Saved model to 'FLAIR-e3-loss0.695-auc0.523.pth'\n",
      "EPOCH: 4\n",
      "[Epoch Train: 4] loss: 0.7055, time: 300.00 s            \n",
      "[Epoch Valid: 4] loss: 0.6932, auc: 0.4271, time: 42.00 s\n",
      "auc improved from 0.6947 to 0.6932. Saved model to 'FLAIR-e4-loss0.693-auc0.427.pth'\n",
      "EPOCH: 5\n",
      "[Epoch Train: 5] loss: 0.6956, time: 302.00 s            \n",
      "[Epoch Valid: 5] loss: 0.6930, auc: 0.6045, time: 40.00 s\n",
      "auc improved from 0.6932 to 0.6930. Saved model to 'FLAIR-e5-loss0.693-auc0.605.pth'\n",
      "EPOCH: 6\n",
      "[Epoch Train: 6] loss: 0.6963, time: 302.00 s            \n",
      "[Epoch Valid: 6] loss: 0.7543, auc: 0.4368, time: 40.00 s\n",
      "EPOCH: 7\n",
      "[Epoch Train: 7] loss: 0.6998, time: 303.00 s            \n",
      "[Epoch Valid: 7] loss: 0.6941, auc: 0.4619, time: 39.00 s\n",
      "EPOCH: 8\n",
      "[Epoch Train: 8] loss: 0.6998, time: 301.00 s            \n",
      "[Epoch Valid: 8] loss: 0.7343, auc: 0.5108, time: 40.00 s\n",
      "EPOCH: 9\n",
      "[Epoch Train: 9] loss: 0.6964, time: 305.00 s            \n",
      "[Epoch Valid: 9] loss: 0.7292, auc: 0.4701, time: 40.00 s\n",
      "EPOCH: 10\n",
      "[Epoch Train: 10] loss: 0.6992, time: 304.00 s            \n",
      "[Epoch Valid: 10] loss: 0.6799, auc: 0.6244, time: 41.00 s\n",
      "auc improved from 0.6930 to 0.6799. Saved model to 'FLAIR-e10-loss0.680-auc0.624.pth'\n",
      "(468, 3) (117, 3)\n"
     ]
    },
    {
     "name": "stderr",
     "output_type": "stream",
     "text": [
      "/opt/conda/lib/python3.7/site-packages/pandas/core/indexing.py:1720: SettingWithCopyWarning: \n",
      "A value is trying to be set on a copy of a slice from a DataFrame.\n",
      "Try using .loc[row_indexer,col_indexer] = value instead\n",
      "\n",
      "See the caveats in the documentation: https://pandas.pydata.org/pandas-docs/stable/user_guide/indexing.html#returning-a-view-versus-a-copy\n",
      "  self._setitem_single_column(loc, value, pi)\n"
     ]
    },
    {
     "data": {
      "text/html": [
       "<div>\n",
       "<style scoped>\n",
       "    .dataframe tbody tr th:only-of-type {\n",
       "        vertical-align: middle;\n",
       "    }\n",
       "\n",
       "    .dataframe tbody tr th {\n",
       "        vertical-align: top;\n",
       "    }\n",
       "\n",
       "    .dataframe thead th {\n",
       "        text-align: right;\n",
       "    }\n",
       "</style>\n",
       "<table border=\"1\" class=\"dataframe\">\n",
       "  <thead>\n",
       "    <tr style=\"text-align: right;\">\n",
       "      <th></th>\n",
       "      <th>BraTS21ID</th>\n",
       "      <th>MGMT_value</th>\n",
       "      <th>MRI_Type</th>\n",
       "    </tr>\n",
       "  </thead>\n",
       "  <tbody>\n",
       "    <tr>\n",
       "      <th>446</th>\n",
       "      <td>645</td>\n",
       "      <td>0</td>\n",
       "      <td>T1w</td>\n",
       "    </tr>\n",
       "    <tr>\n",
       "      <th>529</th>\n",
       "      <td>777</td>\n",
       "      <td>1</td>\n",
       "      <td>T1w</td>\n",
       "    </tr>\n",
       "    <tr>\n",
       "      <th>420</th>\n",
       "      <td>607</td>\n",
       "      <td>1</td>\n",
       "      <td>T1w</td>\n",
       "    </tr>\n",
       "    <tr>\n",
       "      <th>406</th>\n",
       "      <td>589</td>\n",
       "      <td>0</td>\n",
       "      <td>T1w</td>\n",
       "    </tr>\n",
       "    <tr>\n",
       "      <th>475</th>\n",
       "      <td>690</td>\n",
       "      <td>1</td>\n",
       "      <td>T1w</td>\n",
       "    </tr>\n",
       "  </tbody>\n",
       "</table>\n",
       "</div>"
      ],
      "text/plain": [
       "     BraTS21ID  MGMT_value MRI_Type\n",
       "446        645           0      T1w\n",
       "529        777           1      T1w\n",
       "420        607           1      T1w\n",
       "406        589           0      T1w\n",
       "475        690           1      T1w"
      ]
     },
     "metadata": {},
     "output_type": "display_data"
    },
    {
     "name": "stdout",
     "output_type": "stream",
     "text": [
      "EPOCH: 1\n",
      "[Epoch Train: 1] loss: 0.7391, time: 299.00 s            \n",
      "[Epoch Valid: 1] loss: 0.6978, auc: 0.5000, time: 36.00 s\n",
      "auc improved from inf to 0.6978. Saved model to 'T1w-e1-loss0.698-auc0.500.pth'\n",
      "EPOCH: 2\n",
      "[Epoch Train: 2] loss: 0.7149, time: 298.00 s            \n",
      "[Epoch Valid: 2] loss: 0.6931, auc: 0.5473, time: 33.00 s\n",
      "auc improved from 0.6978 to 0.6931. Saved model to 'T1w-e2-loss0.693-auc0.547.pth'\n",
      "EPOCH: 3\n",
      "[Epoch Train: 3] loss: 0.7008, time: 297.00 s            \n",
      "[Epoch Valid: 3] loss: 0.7023, auc: 0.4612, time: 33.00 s\n",
      "EPOCH: 4\n",
      "[Epoch Train: 4] loss: 0.6965, time: 298.00 s            \n",
      "[Epoch Valid: 4] loss: 0.6971, auc: 0.4905, time: 33.00 s\n",
      "EPOCH: 5\n",
      "[Epoch Train: 5] loss: 0.7019, time: 299.00 s            \n",
      "[Epoch Valid: 5] loss: 0.7400, auc: 0.4842, time: 34.00 s\n",
      "EPOCH: 6\n",
      "[Epoch Train: 6] loss: 0.7088, time: 298.00 s            \n",
      "[Epoch Valid: 6] loss: 0.6908, auc: 0.5808, time: 33.00 s\n",
      "auc improved from 0.6931 to 0.6908. Saved model to 'T1w-e6-loss0.691-auc0.581.pth'\n",
      "EPOCH: 7\n",
      "[Epoch Train: 7] loss: 0.7040, time: 298.00 s            \n",
      "[Epoch Valid: 7] loss: 2.5780, auc: 0.5079, time: 33.00 s\n",
      "EPOCH: 8\n",
      "[Epoch Train: 8] loss: 0.7037, time: 298.00 s            \n",
      "[Epoch Valid: 8] loss: 0.7062, auc: 0.5284, time: 33.00 s\n",
      "EPOCH: 9\n",
      "[Epoch Train: 9] loss: 0.6982, time: 298.00 s            \n",
      "[Epoch Valid: 9] loss: 0.7186, auc: 0.4748, time: 34.00 s\n",
      "EPOCH: 10\n",
      "[Epoch Train: 10] loss: 0.7033, time: 298.00 s            \n",
      "[Epoch Valid: 10] loss: 1.1563, auc: 0.5029, time: 34.00 s\n",
      "(468, 3) (117, 3)\n"
     ]
    },
    {
     "name": "stderr",
     "output_type": "stream",
     "text": [
      "/opt/conda/lib/python3.7/site-packages/pandas/core/indexing.py:1720: SettingWithCopyWarning: \n",
      "A value is trying to be set on a copy of a slice from a DataFrame.\n",
      "Try using .loc[row_indexer,col_indexer] = value instead\n",
      "\n",
      "See the caveats in the documentation: https://pandas.pydata.org/pandas-docs/stable/user_guide/indexing.html#returning-a-view-versus-a-copy\n",
      "  self._setitem_single_column(loc, value, pi)\n"
     ]
    },
    {
     "data": {
      "text/html": [
       "<div>\n",
       "<style scoped>\n",
       "    .dataframe tbody tr th:only-of-type {\n",
       "        vertical-align: middle;\n",
       "    }\n",
       "\n",
       "    .dataframe tbody tr th {\n",
       "        vertical-align: top;\n",
       "    }\n",
       "\n",
       "    .dataframe thead th {\n",
       "        text-align: right;\n",
       "    }\n",
       "</style>\n",
       "<table border=\"1\" class=\"dataframe\">\n",
       "  <thead>\n",
       "    <tr style=\"text-align: right;\">\n",
       "      <th></th>\n",
       "      <th>BraTS21ID</th>\n",
       "      <th>MGMT_value</th>\n",
       "      <th>MRI_Type</th>\n",
       "    </tr>\n",
       "  </thead>\n",
       "  <tbody>\n",
       "    <tr>\n",
       "      <th>446</th>\n",
       "      <td>645</td>\n",
       "      <td>0</td>\n",
       "      <td>T1wCE</td>\n",
       "    </tr>\n",
       "    <tr>\n",
       "      <th>529</th>\n",
       "      <td>777</td>\n",
       "      <td>1</td>\n",
       "      <td>T1wCE</td>\n",
       "    </tr>\n",
       "    <tr>\n",
       "      <th>420</th>\n",
       "      <td>607</td>\n",
       "      <td>1</td>\n",
       "      <td>T1wCE</td>\n",
       "    </tr>\n",
       "    <tr>\n",
       "      <th>406</th>\n",
       "      <td>589</td>\n",
       "      <td>0</td>\n",
       "      <td>T1wCE</td>\n",
       "    </tr>\n",
       "    <tr>\n",
       "      <th>475</th>\n",
       "      <td>690</td>\n",
       "      <td>1</td>\n",
       "      <td>T1wCE</td>\n",
       "    </tr>\n",
       "  </tbody>\n",
       "</table>\n",
       "</div>"
      ],
      "text/plain": [
       "     BraTS21ID  MGMT_value MRI_Type\n",
       "446        645           0    T1wCE\n",
       "529        777           1    T1wCE\n",
       "420        607           1    T1wCE\n",
       "406        589           0    T1wCE\n",
       "475        690           1    T1wCE"
      ]
     },
     "metadata": {},
     "output_type": "display_data"
    },
    {
     "name": "stdout",
     "output_type": "stream",
     "text": [
      "EPOCH: 1\n",
      "[Epoch Train: 1] loss: 0.7467, time: 307.00 s            \n",
      "[Epoch Valid: 1] loss: 0.6930, auc: 0.5067, time: 40.00 s\n",
      "auc improved from inf to 0.6930. Saved model to 'T1wCE-e1-loss0.693-auc0.507.pth'\n",
      "EPOCH: 2\n",
      "[Epoch Train: 2] loss: 0.7101, time: 299.00 s            \n",
      "[Epoch Valid: 2] loss: 0.6934, auc: 0.4265, time: 36.00 s\n",
      "EPOCH: 3\n",
      "[Epoch Train: 3] loss: 0.7043, time: 297.00 s            \n",
      "[Epoch Valid: 3] loss: 0.6931, auc: 0.4002, time: 34.00 s\n",
      "EPOCH: 4\n",
      "[Epoch Train: 4] loss: 0.7014, time: 299.00 s            \n",
      "[Epoch Valid: 4] loss: 0.6950, auc: 0.5585, time: 35.00 s\n",
      "EPOCH: 5\n",
      "[Epoch Train: 5] loss: 0.6992, time: 298.00 s            \n",
      "[Epoch Valid: 5] loss: 0.7698, auc: 0.4292, time: 35.00 s\n",
      "EPOCH: 6\n",
      "[Epoch Train: 6] loss: 0.6973, time: 296.00 s            \n",
      "[Epoch Valid: 6] loss: 0.7559, auc: 0.5858, time: 35.00 s\n",
      "EPOCH: 7\n",
      "[Epoch Train: 7] loss: 0.6921, time: 297.00 s            \n",
      "[Epoch Valid: 7] loss: 1.7593, auc: 0.4350, time: 34.00 s\n",
      "EPOCH: 8\n",
      "[Epoch Train: 8] loss: 0.6954, time: 298.00 s            \n",
      "[Epoch Valid: 8] loss: 2.0718, auc: 0.6022, time: 35.00 s\n",
      "EPOCH: 9\n",
      "[Epoch Train: 9] loss: 0.6948, time: 299.00 s            \n",
      "[Epoch Valid: 9] loss: 5.4940, auc: 0.5665, time: 34.00 s\n",
      "EPOCH: 10\n",
      "[Epoch Train: 10] loss: 0.7037, time: 298.00 s            \n",
      "[Epoch Valid: 10] loss: 1.8050, auc: 0.5571, time: 35.00 s\n",
      "(468, 3) (117, 3)\n"
     ]
    },
    {
     "name": "stderr",
     "output_type": "stream",
     "text": [
      "/opt/conda/lib/python3.7/site-packages/pandas/core/indexing.py:1720: SettingWithCopyWarning: \n",
      "A value is trying to be set on a copy of a slice from a DataFrame.\n",
      "Try using .loc[row_indexer,col_indexer] = value instead\n",
      "\n",
      "See the caveats in the documentation: https://pandas.pydata.org/pandas-docs/stable/user_guide/indexing.html#returning-a-view-versus-a-copy\n",
      "  self._setitem_single_column(loc, value, pi)\n"
     ]
    },
    {
     "data": {
      "text/html": [
       "<div>\n",
       "<style scoped>\n",
       "    .dataframe tbody tr th:only-of-type {\n",
       "        vertical-align: middle;\n",
       "    }\n",
       "\n",
       "    .dataframe tbody tr th {\n",
       "        vertical-align: top;\n",
       "    }\n",
       "\n",
       "    .dataframe thead th {\n",
       "        text-align: right;\n",
       "    }\n",
       "</style>\n",
       "<table border=\"1\" class=\"dataframe\">\n",
       "  <thead>\n",
       "    <tr style=\"text-align: right;\">\n",
       "      <th></th>\n",
       "      <th>BraTS21ID</th>\n",
       "      <th>MGMT_value</th>\n",
       "      <th>MRI_Type</th>\n",
       "    </tr>\n",
       "  </thead>\n",
       "  <tbody>\n",
       "    <tr>\n",
       "      <th>446</th>\n",
       "      <td>645</td>\n",
       "      <td>0</td>\n",
       "      <td>T2w</td>\n",
       "    </tr>\n",
       "    <tr>\n",
       "      <th>529</th>\n",
       "      <td>777</td>\n",
       "      <td>1</td>\n",
       "      <td>T2w</td>\n",
       "    </tr>\n",
       "    <tr>\n",
       "      <th>420</th>\n",
       "      <td>607</td>\n",
       "      <td>1</td>\n",
       "      <td>T2w</td>\n",
       "    </tr>\n",
       "    <tr>\n",
       "      <th>406</th>\n",
       "      <td>589</td>\n",
       "      <td>0</td>\n",
       "      <td>T2w</td>\n",
       "    </tr>\n",
       "    <tr>\n",
       "      <th>475</th>\n",
       "      <td>690</td>\n",
       "      <td>1</td>\n",
       "      <td>T2w</td>\n",
       "    </tr>\n",
       "  </tbody>\n",
       "</table>\n",
       "</div>"
      ],
      "text/plain": [
       "     BraTS21ID  MGMT_value MRI_Type\n",
       "446        645           0      T2w\n",
       "529        777           1      T2w\n",
       "420        607           1      T2w\n",
       "406        589           0      T2w\n",
       "475        690           1      T2w"
      ]
     },
     "metadata": {},
     "output_type": "display_data"
    },
    {
     "name": "stdout",
     "output_type": "stream",
     "text": [
      "EPOCH: 1\n",
      "[Epoch Train: 1] loss: 0.7550, time: 311.00 s            \n",
      "[Epoch Valid: 1] loss: 0.6974, auc: 0.5000, time: 42.00 s\n",
      "auc improved from inf to 0.6974. Saved model to 'T2w-e1-loss0.697-auc0.500.pth'\n",
      "EPOCH: 2\n",
      "[Epoch Train: 2] loss: 0.7089, time: 306.00 s            \n",
      "[Epoch Valid: 2] loss: 0.7145, auc: 0.4496, time: 39.00 s\n",
      "EPOCH: 3\n",
      "[Epoch Train: 3] loss: 0.7063, time: 305.00 s            \n",
      "[Epoch Valid: 3] loss: 0.6940, auc: 0.5666, time: 37.00 s\n",
      "auc improved from 0.6974 to 0.6940. Saved model to 'T2w-e3-loss0.694-auc0.567.pth'\n",
      "EPOCH: 4\n",
      "[Epoch Train: 4] loss: 0.6996, time: 305.00 s            \n",
      "[Epoch Valid: 4] loss: 0.6939, auc: 0.5474, time: 37.00 s\n",
      "auc improved from 0.6940 to 0.6939. Saved model to 'T2w-e4-loss0.694-auc0.547.pth'\n",
      "EPOCH: 5\n",
      "[Epoch Train: 5] loss: 0.6993, time: 307.00 s            \n",
      "[Epoch Valid: 5] loss: 0.6937, auc: 0.4172, time: 39.00 s\n",
      "auc improved from 0.6939 to 0.6937. Saved model to 'T2w-e5-loss0.694-auc0.417.pth'\n",
      "EPOCH: 6\n",
      "[Epoch Train: 6] loss: 0.6941, time: 305.00 s            \n",
      "[Epoch Valid: 6] loss: 0.7047, auc: 0.5313, time: 42.00 s\n",
      "EPOCH: 7\n",
      "[Epoch Train: 7] loss: 0.6917, time: 304.00 s            \n",
      "[Epoch Valid: 7] loss: 0.7122, auc: 0.5155, time: 40.00 s\n",
      "EPOCH: 8\n",
      "[Epoch Train: 8] loss: 0.6992, time: 305.00 s            \n",
      "[Epoch Valid: 8] loss: 0.7430, auc: 0.5881, time: 40.00 s\n",
      "EPOCH: 9\n",
      "[Epoch Train: 9] loss: 0.7012, time: 304.00 s            \n",
      "[Epoch Valid: 9] loss: 2.1368, auc: 0.5386, time: 39.00 s\n",
      "EPOCH: 10\n",
      "[Epoch Train: 10] loss: 0.6979, time: 303.00 s            \n",
      "[Epoch Valid: 10] loss: 1.2520, auc: 0.4640, time: 42.00 s\n",
      "['FLAIR-e10-loss0.680-auc0.624.pth', 'T1w-e6-loss0.691-auc0.581.pth', 'T1wCE-e1-loss0.693-auc0.507.pth', 'T2w-e5-loss0.694-auc0.417.pth']\n"
     ]
    }
   ],
   "source": [
    "device = torch.device(\"cuda\" if torch.cuda.is_available() else \"cpu\")\n",
    "\n",
    "def train_mri_type(df_train, df_valid, mri_type):\n",
    "    if mri_type==\"all\":\n",
    "        train_list = []\n",
    "        valid_list = []\n",
    "        for mri_type in mri_types:\n",
    "            df_train.loc[:,\"MRI_Type\"] = mri_type\n",
    "            train_list.append(df_train.copy())\n",
    "            df_valid.loc[:,\"MRI_Type\"] = mri_type\n",
    "            valid_list.append(df_valid.copy())\n",
    "\n",
    "        df_train = pd.concat(train_list)\n",
    "        df_valid = pd.concat(valid_list)\n",
    "    else:\n",
    "        df_train.loc[:,\"MRI_Type\"] = mri_type\n",
    "        df_valid.loc[:,\"MRI_Type\"] = mri_type\n",
    "\n",
    "    print(df_train.shape, df_valid.shape)\n",
    "    display(df_train.head())\n",
    "    \n",
    "    train_data_retriever = Dataset(\n",
    "        df_train[\"BraTS21ID\"].values, \n",
    "        df_train[\"MGMT_value\"].values, \n",
    "        df_train[\"MRI_Type\"].values,\n",
    "        augment=True\n",
    "    )\n",
    "\n",
    "    valid_data_retriever = Dataset(\n",
    "        df_valid[\"BraTS21ID\"].values, \n",
    "        df_valid[\"MGMT_value\"].values,\n",
    "        df_valid[\"MRI_Type\"].values\n",
    "    )\n",
    "\n",
    "    train_loader = torch_data.DataLoader(\n",
    "        train_data_retriever,\n",
    "        batch_size=4,\n",
    "        shuffle=True,\n",
    "        num_workers=8,pin_memory = True\n",
    "    )\n",
    "\n",
    "    valid_loader = torch_data.DataLoader(\n",
    "        valid_data_retriever, \n",
    "        batch_size=4,\n",
    "        shuffle=False,\n",
    "        num_workers=8,pin_memory = True\n",
    "    )\n",
    "\n",
    "    model = Model()\n",
    "    model.to(device)\n",
    "\n",
    "    #checkpoint = torch.load(\"best-model-all-auc0.555.pth\")\n",
    "    #model.load_state_dict(checkpoint[\"model_state_dict\"])\n",
    "\n",
    "    #print(model)\n",
    "\n",
    "    optimizer = torch.optim.Adam(model.parameters(), lr=0.001)\n",
    "    #optimizer = torch.optim.SGD(model.parameters(), lr=0.001, momentum=0.9)\n",
    "\n",
    "    criterion = torch_functional.binary_cross_entropy_with_logits\n",
    "\n",
    "    trainer = Trainer(\n",
    "        model, \n",
    "        device, \n",
    "        optimizer, \n",
    "        criterion\n",
    "    )\n",
    "\n",
    "    history = trainer.fit(\n",
    "        10, \n",
    "        train_loader, \n",
    "        valid_loader, \n",
    "        f\"{mri_type}\", \n",
    "        10,\n",
    "    )\n",
    "    \n",
    "    return trainer.lastmodel\n",
    "\n",
    "modelfiles = None\n",
    "\n",
    "if not modelfiles:\n",
    "    modelfiles = [train_mri_type(df_train, df_valid, m) for m in mri_types]\n",
    "    print(modelfiles)"
   ]
  },
  {
   "cell_type": "markdown",
   "id": "78807037",
   "metadata": {
    "papermill": {
     "duration": 1.481971,
     "end_time": "2021-08-24T12:06:09.468646",
     "exception": false,
     "start_time": "2021-08-24T12:06:07.986675",
     "status": "completed"
    },
    "tags": []
   },
   "source": [
    "## Predict function"
   ]
  },
  {
   "cell_type": "code",
   "execution_count": 11,
   "id": "f7e27114",
   "metadata": {
    "execution": {
     "iopub.execute_input": "2021-08-24T12:06:12.514592Z",
     "iopub.status.busy": "2021-08-24T12:06:12.513891Z",
     "iopub.status.idle": "2021-08-24T12:06:12.517904Z",
     "shell.execute_reply": "2021-08-24T12:06:12.517436Z"
    },
    "papermill": {
     "duration": 1.508697,
     "end_time": "2021-08-24T12:06:12.518025",
     "exception": false,
     "start_time": "2021-08-24T12:06:11.009328",
     "status": "completed"
    },
    "tags": []
   },
   "outputs": [],
   "source": [
    "def predict(modelfile, df, mri_type, split):\n",
    "    print(\"Predict:\", modelfile, mri_type, df.shape)\n",
    "    df.loc[:,\"MRI_Type\"] = mri_type\n",
    "    data_retriever = Dataset(\n",
    "        df.index.values, \n",
    "        mri_type=df[\"MRI_Type\"].values,\n",
    "        split=split\n",
    "    )\n",
    "\n",
    "    data_loader = torch_data.DataLoader(\n",
    "        data_retriever,\n",
    "        batch_size=4,\n",
    "        shuffle=False,\n",
    "        num_workers=8,\n",
    "    )\n",
    "   \n",
    "    model = Model()\n",
    "    model.to(device)\n",
    "    \n",
    "    checkpoint = torch.load(modelfile)\n",
    "    model.load_state_dict(checkpoint[\"model_state_dict\"])\n",
    "    model.eval()\n",
    "    \n",
    "    y_pred = []\n",
    "    ids = []\n",
    "\n",
    "    for e, batch in enumerate(data_loader,1):\n",
    "        print(f\"{e}/{len(data_loader)}\", end=\"\\r\")\n",
    "        with torch.no_grad():\n",
    "            tmp_pred = torch.sigmoid(model(batch[\"X\"].to(device))).cpu().numpy().squeeze()\n",
    "            if tmp_pred.size == 1:\n",
    "                y_pred.append(tmp_pred)\n",
    "            else:\n",
    "                y_pred.extend(tmp_pred.tolist())\n",
    "            ids.extend(batch[\"id\"].numpy().tolist())\n",
    "            \n",
    "    preddf = pd.DataFrame({\"BraTS21ID\": ids, \"MGMT_value\": y_pred}) \n",
    "    preddf = preddf.set_index(\"BraTS21ID\")\n",
    "    return preddf"
   ]
  },
  {
   "cell_type": "markdown",
   "id": "e481b588",
   "metadata": {
    "papermill": {
     "duration": 1.680422,
     "end_time": "2021-08-24T12:06:15.743754",
     "exception": false,
     "start_time": "2021-08-24T12:06:14.063332",
     "status": "completed"
    },
    "tags": []
   },
   "source": [
    "## Ensemble for validation"
   ]
  },
  {
   "cell_type": "code",
   "execution_count": 12,
   "id": "1ee2f9a6",
   "metadata": {
    "execution": {
     "iopub.execute_input": "2021-08-24T12:06:18.877396Z",
     "iopub.status.busy": "2021-08-24T12:06:18.868562Z",
     "iopub.status.idle": "2021-08-24T12:08:54.983821Z",
     "shell.execute_reply": "2021-08-24T12:08:54.983371Z"
    },
    "papermill": {
     "duration": 157.71741,
     "end_time": "2021-08-24T12:08:54.983949",
     "exception": false,
     "start_time": "2021-08-24T12:06:17.266539",
     "status": "completed"
    },
    "tags": []
   },
   "outputs": [
    {
     "name": "stdout",
     "output_type": "stream",
     "text": [
      "Predict: FLAIR-e10-loss0.680-auc0.624.pth FLAIR (117, 3)\n",
      "Predict: T1w-e6-loss0.691-auc0.581.pth T1w (117, 3)\n",
      "Predict: T1wCE-e1-loss0.693-auc0.507.pth T1wCE (117, 3)\n",
      "Predict: T2w-e5-loss0.694-auc0.417.pth T2w (117, 3)\n",
      "Validation ensemble AUC: 0.6197\n"
     ]
    },
    {
     "data": {
      "text/plain": [
       "<seaborn.axisgrid.FacetGrid at 0x7f12bc566650>"
      ]
     },
     "execution_count": 12,
     "metadata": {},
     "output_type": "execute_result"
    },
    {
     "data": {
      "image/png": "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\n",
      "text/plain": [
       "<Figure size 360x360 with 1 Axes>"
      ]
     },
     "metadata": {
      "needs_background": "light"
     },
     "output_type": "display_data"
    }
   ],
   "source": [
    "df_valid = df_valid.set_index(\"BraTS21ID\")\n",
    "df_valid[\"MGMT_pred\"] = 0\n",
    "for m, mtype in zip(modelfiles,  mri_types):\n",
    "    pred = predict(m, df_valid, mtype, \"train\")\n",
    "    df_valid[\"MGMT_pred\"] += pred[\"MGMT_value\"]\n",
    "df_valid[\"MGMT_pred\"] /= len(modelfiles)\n",
    "auc = roc_auc_score(df_valid[\"MGMT_value\"], df_valid[\"MGMT_pred\"])\n",
    "print(f\"Validation ensemble AUC: {auc:.4f}\")\n",
    "sns.displot(df_valid[\"MGMT_pred\"])"
   ]
  },
  {
   "cell_type": "markdown",
   "id": "40fb1de8",
   "metadata": {
    "papermill": {
     "duration": 1.530331,
     "end_time": "2021-08-24T12:08:58.042387",
     "exception": false,
     "start_time": "2021-08-24T12:08:56.512056",
     "status": "completed"
    },
    "tags": []
   },
   "source": [
    "## Ensemble for submission"
   ]
  },
  {
   "cell_type": "code",
   "execution_count": 13,
   "id": "6454fa4a",
   "metadata": {
    "execution": {
     "iopub.execute_input": "2021-08-24T12:09:01.340809Z",
     "iopub.status.busy": "2021-08-24T12:09:01.340260Z",
     "iopub.status.idle": "2021-08-24T12:11:06.781814Z",
     "shell.execute_reply": "2021-08-24T12:11:06.781265Z"
    },
    "papermill": {
     "duration": 126.980164,
     "end_time": "2021-08-24T12:11:06.781952",
     "exception": false,
     "start_time": "2021-08-24T12:08:59.801788",
     "status": "completed"
    },
    "tags": []
   },
   "outputs": [
    {
     "name": "stdout",
     "output_type": "stream",
     "text": [
      "Predict: FLAIR-e10-loss0.680-auc0.624.pth FLAIR (87, 1)\n",
      "Predict: T1w-e6-loss0.691-auc0.581.pth T1w (87, 2)\n",
      "Predict: T1wCE-e1-loss0.693-auc0.507.pth T1wCE (87, 2)\n",
      "Predict: T2w-e5-loss0.694-auc0.417.pth T2w (87, 2)\n",
      "22/22\r"
     ]
    }
   ],
   "source": [
    "submission = pd.read_csv(f\"{data_directory}/sample_submission.csv\", index_col=\"BraTS21ID\")\n",
    "\n",
    "submission[\"MGMT_value\"] = 0\n",
    "for m, mtype in zip(modelfiles, mri_types):\n",
    "    pred = predict(m, submission, mtype, split=\"test\")\n",
    "    submission[\"MGMT_value\"] += pred[\"MGMT_value\"]\n",
    "\n",
    "submission[\"MGMT_value\"] /= len(modelfiles)\n",
    "submission[\"MGMT_value\"].to_csv(\"submission.csv\")"
   ]
  },
  {
   "cell_type": "code",
   "execution_count": 14,
   "id": "d3c82218",
   "metadata": {
    "execution": {
     "iopub.execute_input": "2021-08-24T12:11:09.977425Z",
     "iopub.status.busy": "2021-08-24T12:11:09.976692Z",
     "iopub.status.idle": "2021-08-24T12:11:09.980223Z",
     "shell.execute_reply": "2021-08-24T12:11:09.980648Z"
    },
    "papermill": {
     "duration": 1.576059,
     "end_time": "2021-08-24T12:11:09.980783",
     "exception": false,
     "start_time": "2021-08-24T12:11:08.404724",
     "status": "completed"
    },
    "tags": []
   },
   "outputs": [
    {
     "data": {
      "text/html": [
       "<div>\n",
       "<style scoped>\n",
       "    .dataframe tbody tr th:only-of-type {\n",
       "        vertical-align: middle;\n",
       "    }\n",
       "\n",
       "    .dataframe tbody tr th {\n",
       "        vertical-align: top;\n",
       "    }\n",
       "\n",
       "    .dataframe thead th {\n",
       "        text-align: right;\n",
       "    }\n",
       "</style>\n",
       "<table border=\"1\" class=\"dataframe\">\n",
       "  <thead>\n",
       "    <tr style=\"text-align: right;\">\n",
       "      <th></th>\n",
       "      <th>MGMT_value</th>\n",
       "      <th>MRI_Type</th>\n",
       "    </tr>\n",
       "    <tr>\n",
       "      <th>BraTS21ID</th>\n",
       "      <th></th>\n",
       "      <th></th>\n",
       "    </tr>\n",
       "  </thead>\n",
       "  <tbody>\n",
       "    <tr>\n",
       "      <th>1</th>\n",
       "      <td>0.519847</td>\n",
       "      <td>T2w</td>\n",
       "    </tr>\n",
       "    <tr>\n",
       "      <th>13</th>\n",
       "      <td>0.524985</td>\n",
       "      <td>T2w</td>\n",
       "    </tr>\n",
       "    <tr>\n",
       "      <th>15</th>\n",
       "      <td>0.519052</td>\n",
       "      <td>T2w</td>\n",
       "    </tr>\n",
       "    <tr>\n",
       "      <th>27</th>\n",
       "      <td>0.526676</td>\n",
       "      <td>T2w</td>\n",
       "    </tr>\n",
       "    <tr>\n",
       "      <th>37</th>\n",
       "      <td>0.523436</td>\n",
       "      <td>T2w</td>\n",
       "    </tr>\n",
       "    <tr>\n",
       "      <th>...</th>\n",
       "      <td>...</td>\n",
       "      <td>...</td>\n",
       "    </tr>\n",
       "    <tr>\n",
       "      <th>826</th>\n",
       "      <td>0.479581</td>\n",
       "      <td>T2w</td>\n",
       "    </tr>\n",
       "    <tr>\n",
       "      <th>829</th>\n",
       "      <td>0.519308</td>\n",
       "      <td>T2w</td>\n",
       "    </tr>\n",
       "    <tr>\n",
       "      <th>833</th>\n",
       "      <td>0.463119</td>\n",
       "      <td>T2w</td>\n",
       "    </tr>\n",
       "    <tr>\n",
       "      <th>997</th>\n",
       "      <td>0.520122</td>\n",
       "      <td>T2w</td>\n",
       "    </tr>\n",
       "    <tr>\n",
       "      <th>1006</th>\n",
       "      <td>0.525483</td>\n",
       "      <td>T2w</td>\n",
       "    </tr>\n",
       "  </tbody>\n",
       "</table>\n",
       "<p>87 rows × 2 columns</p>\n",
       "</div>"
      ],
      "text/plain": [
       "           MGMT_value MRI_Type\n",
       "BraTS21ID                     \n",
       "1            0.519847      T2w\n",
       "13           0.524985      T2w\n",
       "15           0.519052      T2w\n",
       "27           0.526676      T2w\n",
       "37           0.523436      T2w\n",
       "...               ...      ...\n",
       "826          0.479581      T2w\n",
       "829          0.519308      T2w\n",
       "833          0.463119      T2w\n",
       "997          0.520122      T2w\n",
       "1006         0.525483      T2w\n",
       "\n",
       "[87 rows x 2 columns]"
      ]
     },
     "execution_count": 14,
     "metadata": {},
     "output_type": "execute_result"
    }
   ],
   "source": [
    "submission"
   ]
  },
  {
   "cell_type": "code",
   "execution_count": 15,
   "id": "386dde3e",
   "metadata": {
    "execution": {
     "iopub.execute_input": "2021-08-24T12:11:13.319875Z",
     "iopub.status.busy": "2021-08-24T12:11:13.319052Z",
     "iopub.status.idle": "2021-08-24T12:11:13.572183Z",
     "shell.execute_reply": "2021-08-24T12:11:13.572816Z"
    },
    "papermill": {
     "duration": 1.822849,
     "end_time": "2021-08-24T12:11:13.572967",
     "exception": false,
     "start_time": "2021-08-24T12:11:11.750118",
     "status": "completed"
    },
    "tags": []
   },
   "outputs": [
    {
     "data": {
      "text/plain": [
       "<seaborn.axisgrid.FacetGrid at 0x7f13886d6f50>"
      ]
     },
     "execution_count": 15,
     "metadata": {},
     "output_type": "execute_result"
    },
    {
     "data": {
      "image/png": "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\n",
      "text/plain": [
       "<Figure size 360x360 with 1 Axes>"
      ]
     },
     "metadata": {
      "needs_background": "light"
     },
     "output_type": "display_data"
    }
   ],
   "source": [
    "sns.displot(submission[\"MGMT_value\"])"
   ]
  },
  {
   "cell_type": "code",
   "execution_count": null,
   "id": "6c92eadf",
   "metadata": {
    "papermill": {
     "duration": 1.545227,
     "end_time": "2021-08-24T12:11:16.681182",
     "exception": false,
     "start_time": "2021-08-24T12:11:15.135955",
     "status": "completed"
    },
    "tags": []
   },
   "outputs": [],
   "source": []
  }
 ],
 "metadata": {
  "kernelspec": {
   "display_name": "Python 3",
   "language": "python",
   "name": "python3"
  },
  "language_info": {
   "codemirror_mode": {
    "name": "ipython",
    "version": 3
   },
   "file_extension": ".py",
   "mimetype": "text/x-python",
   "name": "python",
   "nbconvert_exporter": "python",
   "pygments_lexer": "ipython3",
   "version": "3.7.10"
  },
  "papermill": {
   "default_parameters": {},
   "duration": 13904.034762,
   "end_time": "2021-08-24T12:11:22.007007",
   "environment_variables": {},
   "exception": null,
   "input_path": "__notebook__.ipynb",
   "output_path": "__notebook__.ipynb",
   "parameters": {},
   "start_time": "2021-08-24T08:19:37.972245",
   "version": "2.3.3"
  }
 },
 "nbformat": 4,
 "nbformat_minor": 5
}
